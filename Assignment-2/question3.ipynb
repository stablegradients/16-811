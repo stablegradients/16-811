{
 "cells": [
  {
   "cell_type": "code",
   "execution_count": 1,
   "metadata": {},
   "outputs": [
    {
     "name": "stdout",
     "output_type": "stream",
     "text": [
      "Roots are: 12.566370617538894 and 15.707963277966666 at step 8629\n",
      "Roots are: 3.1797208852318744e-09 and 1.0017699834628094e-08\n"
     ]
    },
    {
     "data": {
      "text/plain": [
       "(12.566370617538894, 15.707963277966666)"
      ]
     },
     "execution_count": 1,
     "metadata": {},
     "output_type": "execute_result"
    }
   ],
   "source": [
    "import numpy as np\n",
    "\n",
    "def newton_raphson_tan(initial_guess, tolerance=1e-7, max_iterations=10000):\n",
    "    x = initial_guess\n",
    "    for _ in range(max_iterations):\n",
    "        f_x = np.tan(x)\n",
    "        f_prime_x = 1 / (np.cos(x)**2)\n",
    "        if abs(f_x) < tolerance:\n",
    "            return x\n",
    "        x = x - f_x / f_prime_x\n",
    "    raise ValueError(\"Newton-Raphson method did not converge\")\n",
    "\n",
    "\n",
    "def find_both_roots(num_steps=1000):\n",
    "    for i in range(1, num_steps):\n",
    "        root = newton_raphson_tan(15-i/num_steps)\n",
    "        other_root = newton_raphson_tan(15+i/num_steps)\n",
    "        if np.abs(root - other_root) < 1e-4:\n",
    "            pass\n",
    "        else:\n",
    "            print(f\"Roots are: {root} and {other_root} at step {i}\")\n",
    "            print(f\"Roots are: {np.tan(root)} and {np.tan(other_root)}\")\n",
    "            return root, other_root\n",
    "    return None, None\n",
    "         \n",
    "num_steps = 10000        \n",
    "find_both_roots(num_steps=num_steps)"
   ]
  }
 ],
 "metadata": {
  "kernelspec": {
   "display_name": "RLSSL",
   "language": "python",
   "name": "python3"
  },
  "language_info": {
   "codemirror_mode": {
    "name": "ipython",
    "version": 3
   },
   "file_extension": ".py",
   "mimetype": "text/x-python",
   "name": "python",
   "nbconvert_exporter": "python",
   "pygments_lexer": "ipython3",
   "version": "3.9.19"
  }
 },
 "nbformat": 4,
 "nbformat_minor": 2
}
