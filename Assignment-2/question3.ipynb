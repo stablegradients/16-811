{
 "cells": [
  {
   "cell_type": "code",
   "execution_count": 52,
   "metadata": {},
   "outputs": [
    {
     "name": "stderr",
     "output_type": "stream",
     "text": [
      "/var/folders/43/5971cqb109bfv3wb3b47x9tc0000gn/T/ipykernel_70246/3811786286.py:11: RuntimeWarning: overflow encountered in scalar divide\n",
      "  x = x - f_x / f_prime_x\n",
      "/var/folders/43/5971cqb109bfv3wb3b47x9tc0000gn/T/ipykernel_70246/3811786286.py:7: RuntimeWarning: invalid value encountered in tan\n",
      "  f_x = np.tan(x) - x\n",
      "/var/folders/43/5971cqb109bfv3wb3b47x9tc0000gn/T/ipykernel_70246/3811786286.py:8: RuntimeWarning: invalid value encountered in cos\n",
      "  f_prime_x = -1 + 1 / (np.cos(x)**2)\n",
      "/var/folders/43/5971cqb109bfv3wb3b47x9tc0000gn/T/ipykernel_70246/3811786286.py:11: RuntimeWarning: overflow encountered in scalar subtract\n",
      "  x = x - f_x / f_prime_x\n"
     ]
    },
    {
     "data": {
      "text/plain": [
       "(14.0661939128329, 17.220755272177783)"
      ]
     },
     "execution_count": 52,
     "metadata": {},
     "output_type": "execute_result"
    }
   ],
   "source": [
    "from logging import root\n",
    "import numpy as np\n",
    "\n",
    "def newton_raphson_tan(initial_guess, tolerance=1e-5, max_iterations=10000):\n",
    "    x = initial_guess\n",
    "    for _ in range(max_iterations):\n",
    "        f_x = np.tan(x) - x\n",
    "        f_prime_x = -1 + 1 / (np.cos(x)**2)\n",
    "        if abs(f_x) < tolerance:\n",
    "            return x\n",
    "        x = x - f_x / f_prime_x\n",
    "    raise ValueError(\"Newton-Raphson method did not converge\")\n",
    "\n",
    "\n",
    "def find_both_roots(num_steps=1000):\n",
    "    left_roots = []\n",
    "    right_roots = []\n",
    "    for i in range(1, num_steps):\n",
    "        try:\n",
    "            root_l = newton_raphson_tan(14.5 - 2*i/num_steps)\n",
    "            root_r = newton_raphson_tan(16.5 + 2*i/num_steps)\n",
    "            if root_l < 15:\n",
    "                left_roots.append(root_l)\n",
    "            if root_r > 15:\n",
    "               right_roots.append(root_r)\n",
    "        except:\n",
    "            pass\n",
    "        \n",
    "    return max(left_roots), min(right_roots)\n",
    "\n",
    "find_both_roots()"
   ]
  }
 ],
 "metadata": {
  "kernelspec": {
   "display_name": "RLSSL",
   "language": "python",
   "name": "python3"
  },
  "language_info": {
   "codemirror_mode": {
    "name": "ipython",
    "version": 3
   },
   "file_extension": ".py",
   "mimetype": "text/x-python",
   "name": "python",
   "nbconvert_exporter": "python",
   "pygments_lexer": "ipython3",
   "version": "undefined.undefined.undefined"
  }
 },
 "nbformat": 4,
 "nbformat_minor": 2
}
