{
 "cells": [
  {
   "cell_type": "code",
   "execution_count": 33,
   "metadata": {},
   "outputs": [],
   "source": [
    "import numpy as np\n",
    "def sylvester_matrix(coeff1, coeff2):\n",
    "    A = np.zeros((len(coeff1)+len(coeff2)-2, len(coeff1)+len(coeff2)-2))\n",
    "    for i in range(len(coeff2)-1):\n",
    "        A[i,i:len(coeff1)+i] = coeff1\n",
    "    for i in range(len(coeff1)-1):\n",
    "        A[i+len(coeff2)-1,i:i+len(coeff2)] = coeff2\n",
    "    return A"
   ]
  },
  {
   "cell_type": "code",
   "execution_count": 34,
   "metadata": {},
   "outputs": [
    {
     "name": "stdout",
     "output_type": "stream",
     "text": [
      "[[  1.  -3.   1.  -3.   0.]\n",
      " [  0.   1.  -3.   1.  -3.]\n",
      " [  1.   1. -12.   0.   0.]\n",
      " [  0.   1.   1. -12.   0.]\n",
      " [  0.   0.   1.   1. -12.]]\n"
     ]
    }
   ],
   "source": [
    "coeff_p  = [1, -3, 1, -3]\n",
    "coeff_q = [1, 1, -12]\n",
    "\n",
    "print(sylvester_matrix(coeff_p, coeff_q))"
   ]
  },
  {
   "cell_type": "code",
   "execution_count": 35,
   "metadata": {},
   "outputs": [
    {
     "name": "stdout",
     "output_type": "stream",
     "text": [
      "3.000\n"
     ]
    }
   ],
   "source": [
    "syl_mat = sylvester_matrix(coeff_p, coeff_q)\n",
    "\n",
    "numerator = np.delete(np.delete(syl_mat, 0, axis=1), -1, axis=0)\n",
    "denominator = np.delete(np.delete(syl_mat, 1, axis=1), -1, axis=0)\n",
    "\n",
    "common_root = -1 * np.linalg.det(numerator)/np.linalg.det(denominator)\n",
    "# print common_root to 3 decimal places float\n",
    "print(\"{:.3f}\".format(common_root))"
   ]
  }
 ],
 "metadata": {
  "kernelspec": {
   "display_name": "RLSSL",
   "language": "python",
   "name": "python3"
  },
  "language_info": {
   "codemirror_mode": {
    "name": "ipython",
    "version": 3
   },
   "file_extension": ".py",
   "mimetype": "text/x-python",
   "name": "python",
   "nbconvert_exporter": "python",
   "pygments_lexer": "ipython3",
   "version": "3.9.19"
  }
 },
 "nbformat": 4,
 "nbformat_minor": 2
}
