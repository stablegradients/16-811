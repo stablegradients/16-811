{
 "cells": [
  {
   "cell_type": "code",
   "execution_count": 1,
   "metadata": {},
   "outputs": [],
   "source": [
    "# code to polynomial interpolation using divided difference\n",
    "\n",
    "import numpy as np\n",
    "\n",
    "# x and y values\n",
    "def divided_diff(x, y):\n",
    "    n = len(x)\n",
    "    F_matrix = np.zeros((n, n))\n",
    "    F_matrix = np.diag(y)\n",
    "    for j in range(0,n):\n",
    "        i=j-1\n",
    "        while i>=0:\n",
    "            F_matrix[i,j]=(F_matrix[i,j-1]-F_matrix[i+1,j])/(x[i]-x[j]) #F_matrix[i,j] is the divided difference f[xi...xj]\n",
    "            i=i-1\n",
    "    return F_matrix"
   ]
  },
  {
   "cell_type": "code",
   "execution_count": 2,
   "metadata": {},
   "outputs": [],
   "source": [
    "def eval_poly(x, x_values, F_matrix):\n",
    "    prods = []\n",
    "    prod = 1\n",
    "    for i in range(0, len(x_values)):\n",
    "        prod = prod * (x - x_values[i])\n",
    "        prods.append(prod)\n",
    "    \n",
    "    n = len(x_values)\n",
    "    p = F_matrix[0, 0]\n",
    "    for i in range(1, n):\n",
    "        p = p + F_matrix[0, i] * prods[i-1]\n",
    "    return p"
   ]
  },
  {
   "cell_type": "code",
   "execution_count": 3,
   "metadata": {},
   "outputs": [],
   "source": [
    "# lets try on y=x^2\n",
    "\n",
    "x = [0, 1, -1]\n",
    "y = [1, 0, 4]\n",
    "\n",
    "# F[i,j] = f[xi, xi+1, ... , xj]\n",
    "F_matrix = np.zeros((len(x), len(x)))\n",
    "\n",
    "F_matrix = divided_diff(x, y)\n",
    "\n",
    "\n",
    "y_ = eval_poly(2, [0, 1, -1], F_matrix)"
   ]
  },
  {
   "cell_type": "code",
   "execution_count": 4,
   "metadata": {},
   "outputs": [],
   "source": [
    "x = [i/8  for i in range(0, 5)]\n",
    "y = [np.cos(np.pi * x_) for x_ in x]\n",
    "\n",
    "F_matrix = divided_diff(x, y)\n",
    "\n",
    "y_ = eval_poly(0.3, x, F_matrix)\n"
   ]
  },
  {
   "cell_type": "code",
   "execution_count": 5,
   "metadata": {},
   "outputs": [
    {
     "name": "stdout",
     "output_type": "stream",
     "text": [
      "num points: 2, est. f(x): 1.9911800000, true f(x): 1.9155253328, error: 0.0756546672\n",
      "num points: 4, est. f(x): 1.9668750652, true f(x): 1.9155253328, error: 0.0513497324\n",
      "num points: 40, est. f(x): 1.9155253271, true f(x): 1.9155253328, error: 0.0000000057\n"
     ]
    }
   ],
   "source": [
    "for n in [2,4,40]:\n",
    "    x = [2.0*i/n - 1 for i in range(0, n+1)]\n",
    "    y = [2/(1+9*(x_**2)) for x_ in x]\n",
    "    F_matrix = divided_diff(x, y)\n",
    "    y_ = eval_poly(0.07, x, F_matrix)\n",
    "    y_true = 2/(1+9*(0.07**2))\n",
    "    print(f\"num points: {n}, est. f(x): {y_:.10f}, true f(x): {y_true:.10f}, error: {abs(y_ - y_true):.10f}\")"
   ]
  },
  {
   "cell_type": "code",
   "execution_count": 11,
   "metadata": {},
   "outputs": [
    {
     "name": "stdout",
     "output_type": "stream",
     "text": [
      "num points: 2 0.935088815843589\n",
      "num points: 4 0.5963133727810657\n",
      "num points: 6 0.6302359263450761\n",
      "num points: 8 0.7681245303002646\n",
      "num points: 10 0.9995971865664197\n",
      "num points: 12 1.3512655147224266\n",
      "num points: 14 1.873467094320752\n",
      "num points: 16 2.644132287224602\n",
      "num points: 18 3.7836653811075536\n",
      "num points: 20 5.465170585146498\n",
      "num points: 40 290.09560756889874\n"
     ]
    }
   ],
   "source": [
    "for n in [2,4,6, 8, 10, 12, 14, 16, 18, 20, 40]:\n",
    "    x = [2.0*i/n - 1 for i in range(0, n+1)]\n",
    "    y = [2/(1+9*(x_**2)) for x_ in x]\n",
    "    F_matrix = divided_diff(x, y)\n",
    "\n",
    "    x_test = [2.0*i/(1000) - 1 for i in range(0, 1000+1)]\n",
    "    y_test = [eval_poly(x_, x, F_matrix) for x_ in x_test]\n",
    "    y_true = [2/(1+9*(x_**2)) for x_ in x_test]\n",
    "    error = np.max(np.abs(np.array(y_test) - np.array(y_true)))\n",
    "    print(f\"num points: {n}\", error)"
   ]
  },
  {
   "cell_type": "code",
   "execution_count": null,
   "metadata": {},
   "outputs": [],
   "source": []
  }
 ],
 "metadata": {
  "kernelspec": {
   "display_name": "LogitAdjustmentLongTail",
   "language": "python",
   "name": "python3"
  },
  "language_info": {
   "codemirror_mode": {
    "name": "ipython",
    "version": 3
   },
   "file_extension": ".py",
   "mimetype": "text/x-python",
   "name": "python",
   "nbconvert_exporter": "python",
   "pygments_lexer": "ipython3",
   "version": "3.9.19"
  }
 },
 "nbformat": 4,
 "nbformat_minor": 2
}
