{
 "cells": [
  {
   "cell_type": "code",
   "execution_count": 10,
   "metadata": {},
   "outputs": [
    {
     "name": "stdout",
     "output_type": "stream",
     "text": [
      "16*x**4 - 48*x**3 + 48*x**2 - 28*x + 11\n"
     ]
    }
   ],
   "source": [
    "import sympy as sp\n",
    "\n",
    "x = sp.Symbol('x')\n",
    "\n",
    "M = sp.Matrix([[2, -4, 2*(x**2) - 4*x + 3, 0],\n",
    "               [0, 2, -4, 2*(x**2) - 4*x + 3], \n",
    "               [1, 2*x -3, x**2 -5*x +4, 0], \n",
    "               [0, 1, 2*x -3, x**2 -5*x +4]])\n",
    "\n",
    "det = M.det()\n",
    "\n",
    "print(det)"
   ]
  },
  {
   "cell_type": "code",
   "execution_count": 11,
   "metadata": {},
   "outputs": [],
   "source": [
    "# code to polynomial interpolation using divided difference\n",
    "import numpy as np\n",
    "import cmath\n",
    "# x and y values\n",
    "def divided_diff(x, y):\n",
    "    n = len(x)\n",
    "    F_matrix = np.zeros((n, n))\n",
    "    F_matrix = np.diag(y)\n",
    "    for j in range(0,n):\n",
    "        i=j-1\n",
    "        while i>=0:\n",
    "            # print(\"xi-xj\", x[i], x[j])\n",
    "            F_matrix[i,j]=(F_matrix[i,j-1]-F_matrix[i+1,j])/(x[i]-x[j])\n",
    "            i=i-1\n",
    "    return F_matrix\n",
    "\n",
    "def get_quadratic_coeff(F, x):\n",
    "    # print(F, x)\n",
    "    a = F[0,2]\n",
    "    c = F[0,0] + x[0]*x[1]*F[0,2] -x[0]*F[0,1]\n",
    "    b = F[0,1] -(x[0]+x[1])*F[0,2]\n",
    "    return a,b,c\n",
    "\n",
    "def get_quadratic_roots(a, b, c):\n",
    "    D = b**2 - 4*a*c\n",
    "    if D >= 0:\n",
    "        x1 = (-b + np.sqrt(D)) / (2*a)\n",
    "        x2 = (-b - np.sqrt(D)) / (2*a)\n",
    "    else:\n",
    "        x1 = (-b + cmath.sqrt(D)) / (2*a)\n",
    "        x2 = (-b - cmath.sqrt(D)) / (2*a)\n",
    "    return x1, x2"
   ]
  },
  {
   "cell_type": "code",
   "execution_count": 18,
   "metadata": {},
   "outputs": [],
   "source": [
    "def poly(x, roots=[]):\n",
    "    if roots == []:\n",
    "        return 16*(x**4) -48*(x**3) + 48*(x**2) -28*x + 11\n",
    "    else:\n",
    "        p = 1\n",
    "        for r in roots:\n",
    "            p = p*(x-r)\n",
    "        return (16*(x**4) -48*(x**3) + 48*(x**2) -28*x + 11)/p"
   ]
  },
  {
   "cell_type": "code",
   "execution_count": 19,
   "metadata": {},
   "outputs": [
    {
     "name": "stdout",
     "output_type": "stream",
     "text": [
      "root1 : 0.9159413054963125\n",
      "root2 : (1.7020926832538432+5.6684567414838495e-14j)\n",
      "root3 : (0.19098300562462134-0.6360098247566811j)\n",
      "root3 : (0.19098300518815955+0.6360098243267909j)\n"
     ]
    }
   ],
   "source": [
    "def mueller_method_1root(x, y, roots):\n",
    "    for i in range(1000):\n",
    "        F = divided_diff(x, y)\n",
    "        a,b,c = get_quadratic_coeff(F, x)\n",
    "        # print(a,b,c)\n",
    "        r1, r2 = get_quadratic_roots(a,b,c)\n",
    "        if abs(poly(r1, roots)) < 1e-7:\n",
    "            return r1\n",
    "        if abs(poly(r2, roots)) < 1e-7:\n",
    "            return r2\n",
    "        else:\n",
    "            if abs(poly(r1, roots)) < abs(poly(r2, roots)):\n",
    "                x = [x[1], x[2], r1]\n",
    "                y = [y[1], y[2], poly(r1, roots)]\n",
    "            else:\n",
    "                x = [x[1], x[2], r2]\n",
    "                y = [y[1], y[2], poly(r2, roots)]\n",
    "    return None\n",
    "\n",
    "# x is random 3 numbers in range -10 to 10\n",
    "x = [0, 1, 2]\n",
    "y = [poly(i) for i in x]\n",
    "\n",
    "\n",
    "r1 = mueller_method_1root(x, y, [])\n",
    "print(\"root1 :\", r1)\n",
    "\n",
    "# x is random 3 numbers in range -10 to 10\n",
    "x = [10, 5, 2]\n",
    "y = [poly(i, [r1]) for i in x]\n",
    "\n",
    "r2 = mueller_method_1root(x, y, [r1])\n",
    "print(\"root2 :\", r2)\n",
    "\n",
    "# x is random 3 numbers in range -10 to 10\n",
    "x = [0, 1, 2]\n",
    "y = [poly(i, [r1, r2]) for i in x]\n",
    "\n",
    "r3 = mueller_method_1root(x, y, [r1, r2])\n",
    "print(\"root3 :\", r3)\n",
    "\n",
    "\n",
    "x = [0, 1, 2]\n",
    "y = [poly(i, [r1, r2, r3]) for i in x]\n",
    "r4 = mueller_method_1root(x, y, [r1, r2, r3])\n",
    "print(\"root3 :\", r4)"
   ]
  },
  {
   "cell_type": "code",
   "execution_count": 14,
   "metadata": {},
   "outputs": [
    {
     "name": "stderr",
     "output_type": "stream",
     "text": [
      "/var/folders/43/5971cqb109bfv3wb3b47x9tc0000gn/T/ipykernel_53734/1486817712.py:29: UserWarning: The following kwargs were not used by contour: 'label'\n",
      "  plt.contour(X, Y, Z1, levels=[0], colors='blue', linewidths=2, label=\"Circle $x^2 + y^2 = 1$\")\n",
      "/var/folders/43/5971cqb109bfv3wb3b47x9tc0000gn/T/ipykernel_53734/1486817712.py:32: UserWarning: The following kwargs were not used by contour: 'label'\n",
      "  plt.contour(X, Y, Z2, levels=[0], colors='red', linewidths=2, label=\"Cubic $x^3 - 3xy^2 = 0$\")\n"
     ]
    },
    {
     "data": {
      "image/png": "[encoded data removed]",
      "text/plain": [
       "<Figure size 800x600 with 1 Axes>"
      ]
     },
     "metadata": {},
     "output_type": "display_data"
    }
   ],
   "source": [
    "import numpy as np\n",
    "import matplotlib.pyplot as plt\n",
    "import sympy as sp\n",
    "\n",
    "# Define symbolic variables\n",
    "x, y = sp.symbols('x y')\n",
    "\n",
    "# Define two polynomials\n",
    "poly1 = 2*(x**2) + 2*(y**2) -4*x -4*y +3  # Circle equation: x^2 + y^2 = 1\n",
    "poly2 = x**2 + y**2 + 2*x*y -5*x -3*y + 4  # A cubic polynomial (lemniscate-like curve)\n",
    "\n",
    "# Convert polynomials to numerical functions\n",
    "poly1_func = sp.lambdify((x, y), poly1, 'numpy')\n",
    "poly2_func = sp.lambdify((x, y), poly2, 'numpy')\n",
    "\n",
    "# Create a grid of points\n",
    "x_vals = np.linspace(-2, 2, 400)\n",
    "y_vals = np.linspace(-2, 2, 400)\n",
    "X, Y = np.meshgrid(x_vals, y_vals)\n",
    "\n",
    "# Compute Z values for the contours\n",
    "Z1 = poly1_func(X, Y)\n",
    "Z2 = poly2_func(X, Y)\n",
    "\n",
    "# Plot the contour of the two polynomials\n",
    "plt.figure(figsize=(8, 6))\n",
    "\n",
    "# Contour for the first polynomial (circle)\n",
    "plt.contour(X, Y, Z1, levels=[0], colors='blue', linewidths=2, label=\"Circle $x^2 + y^2 = 1$\")\n",
    "\n",
    "# Contour for the second polynomial (lemniscate-like curve)\n",
    "plt.contour(X, Y, Z2, levels=[0], colors='red', linewidths=2, label=\"Cubic $x^3 - 3xy^2 = 0$\")\n",
    "\n",
    "# Set plot labels and title\n",
    "plt.title(\"Contour Plot of Two Polynomials\")\n",
    "plt.xlabel(\"x\")\n",
    "plt.ylabel(\"y\")\n",
    "plt.grid(True)\n",
    "\n",
    "# Show the plot\n",
    "plt.show()\n"
   ]
  },
  {
   "cell_type": "code",
   "execution_count": 25,
   "metadata": {},
   "outputs": [
    {
     "name": "stdout",
     "output_type": "stream",
     "text": [
      "0.4039999999999999\n"
     ]
    }
   ],
   "source": [
    "x = 1.702\n",
    "print(2*x -3)"
   ]
  }
 ],
 "metadata": {
  "kernelspec": {
   "display_name": "RLSSL",
   "language": "python",
   "name": "python3"
  },
  "language_info": {
   "codemirror_mode": {
    "name": "ipython",
    "version": 3
   },
   "file_extension": ".py",
   "mimetype": "text/x-python",
   "name": "python",
   "nbconvert_exporter": "python",
   "pygments_lexer": "ipython3",
   "version": "3.9.19"
  }
 },
 "nbformat": 4,
 "nbformat_minor": 2
}
