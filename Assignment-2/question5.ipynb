{
 "cells": [
  {
   "cell_type": "code",
   "execution_count": 119,
   "metadata": {},
   "outputs": [],
   "source": [
    "# code to polynomial interpolation using divided difference\n",
    "import numpy as np\n",
    "import cmath\n",
    "# x and y values\n",
    "def divided_diff(x, y):\n",
    "    n = len(x)\n",
    "    F_matrix = np.zeros((n, n))\n",
    "    F_matrix = np.diag(y)\n",
    "    for j in range(0,n):\n",
    "        i=j-1\n",
    "        while i>=0:\n",
    "            # print(\"xi-xj\", x[i], x[j])\n",
    "            F_matrix[i,j]=(F_matrix[i,j-1]-F_matrix[i+1,j])/(x[i]-x[j])\n",
    "            i=i-1\n",
    "    return F_matrix\n",
    "\n",
    "def get_quadratic_coeff(F, x):\n",
    "    # print(F, x)\n",
    "    a = F[0,2]\n",
    "    c = F[0,0] + x[0]*x[1]*F[0,2] -x[0]*F[0,1]\n",
    "    b = F[0,1] -(x[0]+x[1])*F[0,2]\n",
    "    return a,b,c\n",
    "\n",
    "def get_quadratic_roots(a, b, c):\n",
    "    D = b**2 - 4*a*c\n",
    "    if D >= 0:\n",
    "        x1 = (-b + np.sqrt(D)) / (2*a)\n",
    "        x2 = (-b - np.sqrt(D)) / (2*a)\n",
    "    else:\n",
    "        x1 = (-b + cmath.sqrt(D)) / (2*a)\n",
    "        x2 = (-b - cmath.sqrt(D)) / (2*a)\n",
    "    return x1, x2"
   ]
  },
  {
   "cell_type": "code",
   "execution_count": 158,
   "metadata": {},
   "outputs": [],
   "source": [
    "def poly(x, roots=[]):\n",
    "    if roots == []:\n",
    "        return x**3 + x + 1\n",
    "    else:\n",
    "        p = 1\n",
    "        for r in roots:\n",
    "            p = p*(x-r)\n",
    "        return (x**3 + x + 1)/p"
   ]
  },
  {
   "cell_type": "code",
   "execution_count": 164,
   "metadata": {},
   "outputs": [
    {
     "name": "stdout",
     "output_type": "stream",
     "text": [
      "(0.3411638900222406-1.1615413814668338j) (7.614719410575788e-08-2.1727144527972087e-08j)\n",
      "(0.34116389673131825+1.1615413785979467j) (6.486493564494822e-08+4.5420303296239695e-08j)\n",
      "(-0.682327826114347-0j) (-5.341394770930208e-08+0j)\n"
     ]
    }
   ],
   "source": [
    "def mueller_method_1root(x, y, roots):\n",
    "    for i in range(1000):\n",
    "        F = divided_diff(x, y)\n",
    "        a,b,c = get_quadratic_coeff(F, x)\n",
    "        # print(a,b,c)\n",
    "        r1, r2 = get_quadratic_roots(a,b,c)\n",
    "        if abs(poly(r1, roots)) < 1e-5:\n",
    "            return r1\n",
    "        if abs(poly(r2, roots)) < 1e-5:\n",
    "            return r2\n",
    "        else:\n",
    "            if abs(poly(r1, roots)) < abs(poly(r2, roots)):\n",
    "                x = [x[1], x[2], r1]\n",
    "                y = [y[1], y[2], poly(r1, roots)]\n",
    "            else:\n",
    "                x = [x[1], x[2], r2]\n",
    "                y = [y[1], y[2], poly(r2, roots)]\n",
    "    return None\n",
    "\n",
    "# x is random 3 numbers in range -10 to 10\n",
    "x = [0, 1, 2]\n",
    "y = [poly(i) for i in x]\n",
    "\n",
    "\n",
    "r1 = mueller_method_1root(x, y, [])\n",
    "print(r1, poly(r1))\n",
    "\n",
    "# x is random 3 numbers in range -10 to 10\n",
    "x = [0, 1, -5]\n",
    "y = [poly(i, [r1]) for i in x]\n",
    "\n",
    "r2 = mueller_method_1root(x, y, [r1])\n",
    "print(r2, poly(r2))\n",
    "\n",
    "# x is random 3 numbers in range -10 to 10\n",
    "x = [0, 1, -5]\n",
    "y = [poly(i, [r1, r2]) for i in x]\n",
    "\n",
    "r3 = mueller_method_1root(x, y, [r1, r2])\n",
    "print(r3, poly(r3))"
   ]
  },
  {
   "cell_type": "code",
   "execution_count": 118,
   "metadata": {},
   "outputs": [
    {
     "name": "stdout",
     "output_type": "stream",
     "text": [
      "(-0.9999987204233751+1.879084529643471e-07j)\n"
     ]
    }
   ],
   "source": [
    "print(r1*r2*r3)"
   ]
  },
  {
   "cell_type": "code",
   "execution_count": null,
   "metadata": {},
   "outputs": [],
   "source": []
  },
  {
   "cell_type": "code",
   "execution_count": 4,
   "metadata": {},
   "outputs": [
    {
     "name": "stdout",
     "output_type": "stream",
     "text": [
      "The roots are: [(0.34116390191400964-1.1615413999972517j), (0.3411639019140094+1.161541399997252j), (-0.682327803828019-2.220446049250313e-16j)]\n"
     ]
    }
   ],
   "source": [
    "import cmath\n",
    "import numpy as np\n",
    "\n",
    "def muellers_method(f, x0, x1, x2, tol=1e-6, max_iter=100):\n",
    "    \"\"\"\n",
    "    Implements Mueller's method for finding roots of a function.\n",
    "    \n",
    "    Parameters:\n",
    "    f (function): The function for which we are trying to find a root.\n",
    "    x0, x1, x2 (float): Initial guesses for the root.\n",
    "    tol (float): Tolerance for convergence.\n",
    "    max_iter (int): Maximum number of iterations.\n",
    "    \n",
    "    Returns:\n",
    "    float: The root of the function.\n",
    "    \"\"\"\n",
    "    for _ in range(max_iter):\n",
    "        h1 = x1 - x0\n",
    "        h2 = x2 - x1\n",
    "        delta1 = (f(x1) - f(x0)) / h1\n",
    "        delta2 = (f(x2) - f(x1)) / h2\n",
    "        a = (delta2 - delta1) / (h2 + h1)\n",
    "        b = a * h2 + delta2\n",
    "        c = f(x2)\n",
    "        \n",
    "        rad = cmath.sqrt(b**2 - 4*a*c)\n",
    "        if abs(b + rad) > abs(b - rad):\n",
    "            den = b + rad\n",
    "        else:\n",
    "            den = b - rad\n",
    "        \n",
    "        dxr = -2 * c / den\n",
    "        x3 = x2 + dxr\n",
    "        \n",
    "        if abs(dxr) < tol:\n",
    "            return x3\n",
    "        \n",
    "        x0, x1, x2 = x1, x2, x3\n",
    "    \n",
    "    raise ValueError(\"Maximum number of iterations reached without convergence\")\n",
    "\n",
    "def deflate_polynomial(coeffs, root):\n",
    "    \"\"\"\n",
    "    Deflates the polynomial by dividing it by (x - root).\n",
    "    \n",
    "    Parameters:\n",
    "    coeffs (list): Coefficients of the polynomial.\n",
    "    root (complex): The root to deflate by.\n",
    "    \n",
    "    Returns:\n",
    "    list: Coefficients of the deflated polynomial.\n",
    "    \"\"\"\n",
    "    new_coeffs = []\n",
    "    new_coeffs.append(coeffs[0])\n",
    "    for i in range(1, len(coeffs)):\n",
    "        new_coeffs.append(coeffs[i] + new_coeffs[i-1] * root)\n",
    "    return new_coeffs[:-1]\n",
    "\n",
    "# Define the polynomial coefficients (highest degree first)\n",
    "coeffs = [1, 0, 1, 1]\n",
    "\n",
    "# Find all roots\n",
    "roots = []\n",
    "for _ in range(len(coeffs) - 1):\n",
    "    # Define the polynomial function\n",
    "    def f(x):\n",
    "        return sum(c * x**i for i, c in enumerate(reversed(coeffs)))\n",
    "    \n",
    "    # Initial guesses\n",
    "    x0, x1, x2 = 0.5, 1.5, 2.5\n",
    "    \n",
    "    # Find the root\n",
    "    root = muellers_method(f, x0, x1, x2)\n",
    "    roots.append(root)\n",
    "    \n",
    "    # Deflate the polynomial\n",
    "    coeffs = deflate_polynomial(coeffs, root)\n",
    "\n",
    "print(f\"The roots are: {roots}\")"
   ]
  }
 ],
 "metadata": {
  "kernelspec": {
   "display_name": "LogitAdjustmentLongTail",
   "language": "python",
   "name": "python3"
  },
  "language_info": {
   "codemirror_mode": {
    "name": "ipython",
    "version": 3
   },
   "file_extension": ".py",
   "mimetype": "text/x-python",
   "name": "python",
   "nbconvert_exporter": "python",
   "pygments_lexer": "ipython3",
   "version": "3.9.19"
  }
 },
 "nbformat": 4,
 "nbformat_minor": 2
}
