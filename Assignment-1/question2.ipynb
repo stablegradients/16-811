{
 "cells": [
  {
   "cell_type": "markdown",
   "metadata": {},
   "source": [
    "## Question 2.1"
   ]
  },
  {
   "cell_type": "code",
   "execution_count": 1,
   "metadata": {},
   "outputs": [],
   "source": [
    "import numpy as np\n",
    "\n",
    "A_1 = np.array([[ 10, 10, 1],\n",
    "                [ 0, -4, 2],\n",
    "                [ 2, 0, -4]])\n",
    "\n",
    "U, S, VT = np.linalg.svd(A_1)"
   ]
  },
  {
   "cell_type": "code",
   "execution_count": 2,
   "metadata": {},
   "outputs": [
    {
     "data": {
      "text/plain": [
       "array([[-0.97586837, -0.17298018,  0.13326206],\n",
       "       [ 0.19874941, -0.45086605,  0.87018301],\n",
       "       [-0.09044108,  0.87566983,  0.47436563]])"
      ]
     },
     "execution_count": 2,
     "metadata": {},
     "output_type": "execute_result"
    }
   ],
   "source": [
    "U "
   ]
  },
  {
   "cell_type": "code",
   "execution_count": 3,
   "metadata": {},
   "outputs": [
    {
     "data": {
      "text/plain": [
       "array([14.49903717,  4.57803496,  3.13361088])"
      ]
     },
     "execution_count": 3,
     "metadata": {},
     "output_type": "execute_result"
    }
   ],
   "source": [
    "S"
   ]
  },
  {
   "cell_type": "code",
   "execution_count": 4,
   "metadata": {},
   "outputs": [
    {
     "data": {
      "text/plain": [
       "array([[-0.68553282, -0.72788843, -0.01493928],\n",
       "       [ 0.00470461,  0.0160904 , -0.99985947],\n",
       "       [ 0.72802652, -0.68550677, -0.00760607]])"
      ]
     },
     "execution_count": 4,
     "metadata": {},
     "output_type": "execute_result"
    }
   ],
   "source": [
    "VT"
   ]
  },
  {
   "cell_type": "markdown",
   "metadata": {},
   "source": [
    "## Question 2.2"
   ]
  },
  {
   "cell_type": "code",
   "execution_count": 5,
   "metadata": {},
   "outputs": [],
   "source": [
    "import numpy as np\n",
    "\n",
    "A_2 = np.array([[ 5, -5, 0, 0],\n",
    "                    [ 5,  5, 5, 0],\n",
    "                    [ 0, -1, 4, 1],\n",
    "                    [ 0,  4, -1, 2],\n",
    "                    [ 0,  0, 2, 1]])\n",
    "\n",
    "U, S, VT = np.linalg.svd(A_2)"
   ]
  },
  {
   "cell_type": "code",
   "execution_count": 6,
   "metadata": {},
   "outputs": [
    {
     "data": {
      "text/plain": [
       "array([[ 0.1126266 ,  0.86708016,  0.37480574, -0.30750061, -0.0212435 ],\n",
       "       [-0.93215705,  0.15225202,  0.1626033 ,  0.2846251 ,  0.0212435 ],\n",
       "       [-0.20196646,  0.2257811 , -0.74973268, -0.31691184, -0.4956816 ],\n",
       "       [-0.2398716 , -0.41225956,  0.38334628, -0.77085017, -0.17702914],\n",
       "       [-0.14166742,  0.06368894, -0.35217519, -0.36026217,  0.84973988]])"
      ]
     },
     "execution_count": 6,
     "metadata": {},
     "output_type": "execute_result"
    }
   ],
   "source": [
    "U"
   ]
  },
  {
   "cell_type": "code",
   "execution_count": 7,
   "metadata": {},
   "outputs": [
    {
     "data": {
      "text/plain": [
       "array([9.14492811, 7.79814769, 4.42070712, 2.23976139])"
      ]
     },
     "execution_count": 7,
     "metadata": {},
     "output_type": "execute_result"
    }
   ],
   "source": [
    "S"
   ]
  },
  {
   "cell_type": "code",
   "execution_count": 8,
   "metadata": {},
   "outputs": [
    {
     "data": {
      "text/plain": [
       "array([[-0.44807922, -0.65407164, -0.60275097, -0.09003647],\n",
       "       [ 0.65357327, -0.69875055,  0.28263403, -0.06861233],\n",
       "       [ 0.60783153,  0.27645026, -0.74051747, -0.07582844],\n",
       "       [-0.05106685,  0.08667875,  0.09188657, -0.99067443]])"
      ]
     },
     "execution_count": 8,
     "metadata": {},
     "output_type": "execute_result"
    }
   ],
   "source": [
    "VT"
   ]
  },
  {
   "cell_type": "markdown",
   "metadata": {},
   "source": [
    "## Question 2.3"
   ]
  },
  {
   "cell_type": "code",
   "execution_count": 9,
   "metadata": {},
   "outputs": [],
   "source": [
    "import numpy as np\n",
    "\n",
    "A_3 = np.array([[ 1, 1, 1],\n",
    "                [ 10, 2, 9],\n",
    "                [ 8, 0, 7]])\n",
    "\n",
    "U, S, VT = np.linalg.svd(A_3)"
   ]
  },
  {
   "cell_type": "code",
   "execution_count": 10,
   "metadata": {},
   "outputs": [
    {
     "data": {
      "text/plain": [
       "array([[-0.08686637, -0.57077804, -0.81649658],\n",
       "       [-0.78592384, -0.4643889 ,  0.40824829],\n",
       "       [-0.6121911 ,  0.67716718, -0.40824829]])"
      ]
     },
     "execution_count": 10,
     "metadata": {},
     "output_type": "execute_result"
    }
   ],
   "source": [
    "U"
   ]
  },
  {
   "cell_type": "code",
   "execution_count": 11,
   "metadata": {},
   "outputs": [
    {
     "data": {
      "text/plain": [
       "array([1.72832333e+01, 1.51322343e+00, 1.63228421e-15])"
      ]
     },
     "execution_count": 11,
     "metadata": {},
     "output_type": "execute_result"
    }
   ],
   "source": [
    "S"
   ]
  },
  {
   "cell_type": "code",
   "execution_count": 12,
   "metadata": {},
   "outputs": [
    {
     "data": {
      "text/plain": [
       "array([[-0.74312678, -0.09597244, -0.66223249],\n",
       "       [ 0.1339329 , -0.99096789, -0.0066797 ],\n",
       "       [ 0.65561007,  0.09365858, -0.74926865]])"
      ]
     },
     "execution_count": 12,
     "metadata": {},
     "output_type": "execute_result"
    }
   ],
   "source": [
    "VT"
   ]
  }
 ],
 "metadata": {
  "kernelspec": {
   "display_name": "LogitAdjustmentLongTail",
   "language": "python",
   "name": "python3"
  },
  "language_info": {
   "codemirror_mode": {
    "name": "ipython",
    "version": 3
   },
   "file_extension": ".py",
   "mimetype": "text/x-python",
   "name": "python",
   "nbconvert_exporter": "python",
   "pygments_lexer": "ipython3",
   "version": "3.9.7"
  }
 },
 "nbformat": 4,
 "nbformat_minor": 2
}
