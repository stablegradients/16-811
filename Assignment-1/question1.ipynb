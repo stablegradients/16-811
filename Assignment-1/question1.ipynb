{
 "cells": [
  {
   "cell_type": "code",
   "execution_count": null,
   "metadata": {},
   "outputs": [],
   "source": [
    "import numpy as np\n",
    "import copy"
   ]
  },
  {
   "cell_type": "code",
   "execution_count": null,
   "metadata": {},
   "outputs": [],
   "source": [
    "list(range(2,5))"
   ]
  },
  {
   "cell_type": "code",
   "execution_count": null,
   "metadata": {},
   "outputs": [],
   "source": [
    "def LowerTriangularization(dim):\n",
    "        for i in range(dim):\n",
    "            Li = np.zeros((dim, dim))\n",
    "            for j in range(i+1, dim):\n",
    "                print(i,j)\n",
    "\n",
    "LowerTriangularization(3)"
   ]
  },
  {
   "cell_type": "code",
   "execution_count": null,
   "metadata": {},
   "outputs": [],
   "source": [
    "import numpy as np\n",
    "\n",
    "def lower_triangularization(A):\n",
    "    dim = A.shape[0]\n",
    "    L = []\n",
    "    for i in range(dim):\n",
    "        for j in range(i + 1, dim):\n",
    "            Li = np.eye(dim)\n",
    "            Li[j, i] = A[j, i] / A[i, i]\n",
    "            A[j, :] = A[j, :] - (A[j, i] / A[i, i]) * A[i, :]\n",
    "            L.append(Li)\n",
    "            print(Li)\n",
    "    \n",
    "    return L, A"
   ]
  },
  {
   "cell_type": "code",
   "execution_count": null,
   "metadata": {},
   "outputs": [],
   "source": []
  },
  {
   "cell_type": "code",
   "execution_count": 152,
   "metadata": {},
   "outputs": [],
   "source": [
    "import numpy as np\n",
    "import copy\n",
    "\n",
    "class GaussianElimination:\n",
    "    \"\"\"\n",
    "    A class to perform Gaussian Elimination on a given matrix A to decompose it into\n",
    "    permutation (P), lower triangular (L), diagonal (D), and upper triangular (U) matrices.\n",
    "    \"\"\"\n",
    "\n",
    "    def __init__(self, A):\n",
    "        \"\"\"\n",
    "        Initialize the GaussianElimination class with a matrix A.\n",
    "\n",
    "        Parameters:\n",
    "        -----------\n",
    "        A : np.ndarray\n",
    "            The matrix to be decomposed.\n",
    "        \"\"\"\n",
    "        self.A = A.astype(np.float64)  # Ensure the matrix A is of dtype np.float64\n",
    "        self.A_ = copy.deepcopy(self.A)  # Create a deep copy of A to avoid modifying the original matrix\n",
    "        self.initialize()\n",
    "\n",
    "    def initialize(self):\n",
    "        \"\"\"\n",
    "        Initialize matrices P, L, D, and U based on the dimension of matrix A.\n",
    "        \"\"\"\n",
    "        self.dim = self.A.shape[0]\n",
    "\n",
    "        # Permutation matrix initialized as an identity matrix with dtype np.float64\n",
    "        self.P = [np.eye(self.dim, dtype=np.float64)]\n",
    "        \n",
    "        # Initialize L as the identity matrix and store intermediate operations\n",
    "        self.L_operations = []\n",
    "        self.L = np.eye(self.dim)\n",
    "        \n",
    "        # Initialize diagonal matrix D and upper triangular matrix U with zeros\n",
    "        self.D = np.zeros((self.dim, self.dim), dtype=np.float64)\n",
    "        self.U = np.zeros((self.dim, self.dim), dtype=np.float64)\n",
    "\n",
    "    def first_non_zero_index(self, idx):\n",
    "        \"\"\"\n",
    "        Find the index of the first non-zero element in the sub-array starting from index `idx`.\n",
    "        \n",
    "        Parameters:\n",
    "        -----------\n",
    "        idx : int\n",
    "            The starting index for the search in the sub-array.\n",
    "        \n",
    "        Returns:\n",
    "        --------\n",
    "        int\n",
    "            The index of the first non-zero element in the sub-array.\n",
    "        \"\"\"\n",
    "        column = self.A_[idx:, idx]\n",
    "        non_zero_indices = np.nonzero(column)[0]\n",
    "\n",
    "        return non_zero_indices[0] + idx\n",
    "\n",
    "    def permutation_matrix(self, col1, col2):\n",
    "        \"\"\"\n",
    "        Swap two columns in the permutation matrix P.\n",
    "\n",
    "        Parameters:\n",
    "        -----------\n",
    "        col1 : int\n",
    "            The first column to swap.\n",
    "        col2 : int\n",
    "            The second column to swap.\n",
    "        \"\"\"\n",
    "        Pi = np.eye(self.dim)\n",
    "        Pi[:, [col1, col2]] = Pi[:, [col2, col1]]\n",
    "        self.P = [Pi] + self.P\n",
    "        # print(\"Pi: \", Pi)\n",
    "        return Pi\n",
    "\n",
    "    def swap_rows_A_(self, row1, row2):\n",
    "        \"\"\"\n",
    "        Swap two rows in the matrix A_.\n",
    "\n",
    "        Parameters:\n",
    "        -----------\n",
    "        row1 : int\n",
    "            The first row to swap.\n",
    "        row2 : int\n",
    "            The second row to swap.\n",
    "\n",
    "        Returns:\n",
    "        --------\n",
    "        np.ndarray\n",
    "            The matrix A_ with the specified rows swapped.\n",
    "        \"\"\"\n",
    "        self.A_[[row1, row2], :] = self.A_[[row2, row1], :]\n",
    "        return self.A_\n",
    "\n",
    "    def lower_triangularization(self):\n",
    "        \"\"\"\n",
    "        Perform the lower triangularization of matrix A.\n",
    "\n",
    "        This method transforms matrix A into a lower triangular form by applying\n",
    "        a series of row operations and stores the intermediate lower triangular\n",
    "        matrices in L_operations.\n",
    "        \"\"\"\n",
    "        for i in range(self.dim):\n",
    "            if self.A_[i, i] == 0:\n",
    "                interchange_idx = self.first_non_zero_index(i)\n",
    "                Pi = self.permutation_matrix(i, interchange_idx)  # Swap columns in permutation matrix\n",
    "                self.swap_rows_A_(i, interchange_idx)  # Swap rows in A_\n",
    "                # Store operations for P and L matrices\n",
    "                self.L_operations.append(Pi)\n",
    "            else:\n",
    "                Pi = np.eye(self.dim)\n",
    "            \n",
    "            Li = np.eye(self.dim, dtype=np.float64)  # Identity matrix to accumulate row operations\n",
    "            \n",
    "            for j in range(i + 1, self.dim):\n",
    "                # Compute the multiplier for row transformation\n",
    "                Li[j, i] = self.A_[j, i] / self.A_[i, i]\n",
    "                # Update row j of A_ by subtracting the scaled row i\n",
    "                self.A_[j, :] -= (self.A_[j, i] / self.A_[i, i]) * self.A_[i, :]\n",
    "            self.L_operations.append(Li)  # Store the lower triangular matrix\n",
    "\n",
    "        # print(self.L.shape)\n",
    "        # Combine all lower triangular matrices to form the final L matrix\n",
    "        for li in self.L_operations:\n",
    "            # print(li)\n",
    "            self.L = np.matmul(self.L, li)\n",
    "            # print(self.L.shape)\n",
    "        for pi in self.P:\n",
    "            self.L = np.matmul(pi, self.L)\n",
    "        \n",
    "    def extract_diagonal_and_upper(self):\n",
    "        \"\"\"\n",
    "        Extract the diagonal (D) and upper triangular (U) matrices from A_.\n",
    "        \"\"\"\n",
    "        for i in range(self.dim):\n",
    "            self.D[i, i] = self.A_[i, i]  # Extract diagonal elements\n",
    "            self.U[i, :] = self.A_[i, :]  # Extract upper triangular part\n",
    "\n",
    "        # Normalize U to ensure it has ones on the diagonal\n",
    "        for i in range(self.dim):\n",
    "            if self.D[i, i] != 0:\n",
    "                self.U[i, :] /= self.D[i, i]\n",
    "\n",
    "    def decompose(self):\n",
    "        \"\"\"\n",
    "        Perform Gaussian Elimination to decompose matrix A into L, D, and U.\n",
    "\n",
    "        Returns:\n",
    "        --------\n",
    "        tuple of np.ndarray\n",
    "            A tuple containing the lower triangular matrix (L),\n",
    "            diagonal matrix (D), and upper triangular matrix (U).\n",
    "        \"\"\"\n",
    "        self.lower_triangularization()\n",
    "        self.extract_diagonal_and_upper()\n",
    "        return self.L, self.D, self.U"
   ]
  },
  {
   "cell_type": "code",
   "execution_count": 153,
   "metadata": {},
   "outputs": [],
   "source": [
    "A = np.array([[1,3,2], [-2,-6,1], [2,5,7]], dtype=np.float64)\n",
    "\n",
    "GE = GaussianElimination(A)\n",
    "L,D,U = GE.decompose()"
   ]
  },
  {
   "cell_type": "code",
   "execution_count": 154,
   "metadata": {},
   "outputs": [
    {
     "data": {
      "text/plain": [
       "array([[ 1.,  0.,  0.],\n",
       "       [ 2.,  1.,  0.],\n",
       "       [-2.,  0.,  1.]])"
      ]
     },
     "execution_count": 154,
     "metadata": {},
     "output_type": "execute_result"
    }
   ],
   "source": [
    "L"
   ]
  },
  {
   "cell_type": "code",
   "execution_count": 149,
   "metadata": {},
   "outputs": [
    {
     "data": {
      "text/plain": [
       "array([[ 1.,  0.,  0.],\n",
       "       [ 0., -1.,  0.],\n",
       "       [ 0.,  0.,  5.]])"
      ]
     },
     "execution_count": 149,
     "metadata": {},
     "output_type": "execute_result"
    }
   ],
   "source": [
    "D"
   ]
  },
  {
   "cell_type": "code",
   "execution_count": 150,
   "metadata": {},
   "outputs": [
    {
     "data": {
      "text/plain": [
       "array([[ 1.,  3.,  2.],\n",
       "       [-0.,  1., -3.],\n",
       "       [ 0.,  0.,  1.]])"
      ]
     },
     "execution_count": 150,
     "metadata": {},
     "output_type": "execute_result"
    }
   ],
   "source": [
    "U"
   ]
  },
  {
   "cell_type": "code",
   "execution_count": 151,
   "metadata": {},
   "outputs": [
    {
     "data": {
      "text/plain": [
       "array([[ 1.,  3.,  2.],\n",
       "       [ 2.,  6.,  9.],\n",
       "       [-2., -7., -1.]])"
      ]
     },
     "execution_count": 151,
     "metadata": {},
     "output_type": "execute_result"
    }
   ],
   "source": [
    "np.matmul(np.matmul(L,D), U)"
   ]
  },
  {
   "cell_type": "code",
   "execution_count": 122,
   "metadata": {},
   "outputs": [
    {
     "data": {
      "text/plain": [
       "array([[ 1.,  3.,  2.],\n",
       "       [ 0., -1.,  3.],\n",
       "       [ 0.,  0.,  5.]])"
      ]
     },
     "execution_count": 122,
     "metadata": {},
     "output_type": "execute_result"
    }
   ],
   "source": [
    "np.matmul(D,U)"
   ]
  }
 ],
 "metadata": {
  "kernelspec": {
   "display_name": "Python 3",
   "language": "python",
   "name": "python3"
  },
  "language_info": {
   "codemirror_mode": {
    "name": "ipython",
    "version": 3
   },
   "file_extension": ".py",
   "mimetype": "text/x-python",
   "name": "python",
   "nbconvert_exporter": "python",
   "pygments_lexer": "ipython3",
   "version": "3.9.7"
  }
 },
 "nbformat": 4,
 "nbformat_minor": 2
}
