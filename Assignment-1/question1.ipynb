{
 "cells": [
  {
   "cell_type": "code",
   "execution_count": 4,
   "metadata": {},
   "outputs": [],
   "source": [
    "import numpy as np\n",
    "import copy"
   ]
  },
  {
   "cell_type": "code",
   "execution_count": 1,
   "metadata": {},
   "outputs": [
    {
     "data": {
      "text/plain": [
       "[2, 3, 4]"
      ]
     },
     "execution_count": 1,
     "metadata": {},
     "output_type": "execute_result"
    }
   ],
   "source": [
    "list(range(2,5))"
   ]
  },
  {
   "cell_type": "code",
   "execution_count": 53,
   "metadata": {},
   "outputs": [
    {
     "name": "stdout",
     "output_type": "stream",
     "text": [
      "0 1\n",
      "0 2\n",
      "1 2\n"
     ]
    }
   ],
   "source": [
    "def LowerTriangularization(dim):\n",
    "        for i in range(dim):\n",
    "            Li = np.zeros((dim, dim))\n",
    "            for j in range(i+1, dim):\n",
    "                print(i,j)\n",
    "\n",
    "LowerTriangularization(3)"
   ]
  },
  {
   "cell_type": "code",
   "execution_count": 77,
   "metadata": {},
   "outputs": [],
   "source": [
    "import numpy as np\n",
    "\n",
    "def lower_triangularization(A):\n",
    "    dim = A.shape[0]\n",
    "    L = []\n",
    "    for i in range(dim):\n",
    "        for j in range(i + 1, dim):\n",
    "            Li = np.eye(dim)\n",
    "            Li[j, i] = A[j, i] / A[i, i]\n",
    "            A[j, :] = A[j, :] - (A[j, i] / A[i, i]) * A[i, :]\n",
    "            L.append(Li)\n",
    "            print(Li)\n",
    "    \n",
    "    return L, A"
   ]
  },
  {
   "cell_type": "code",
   "execution_count": 86,
   "metadata": {},
   "outputs": [],
   "source": [
    "import numpy as np\n",
    "import copy\n",
    "\n",
    "class GaussianElimination:\n",
    "    \"\"\"\n",
    "    A class to perform Gaussian Elimination on a given matrix A to decompose it into\n",
    "    permutation (P), lower triangular (L), diagonal (D), and upper triangular (U) matrices.\n",
    "    \"\"\"\n",
    "\n",
    "    def __init__(self, A):\n",
    "        \"\"\"\n",
    "        Initialize the GaussianElimination class with a matrix A.\n",
    "\n",
    "        Parameters:\n",
    "        -----------\n",
    "        A : np.ndarray\n",
    "            The matrix to be decomposed.\n",
    "        \"\"\"\n",
    "        self.A = A\n",
    "        self.A_ = copy.deepcopy(A)  # Create a deep copy of A to avoid modifying the original matrix\n",
    "        self.initialize()\n",
    "\n",
    "    def initialize(self):\n",
    "        \"\"\"\n",
    "        Initialize matrices P, L, D, and U based on the dimension of matrix A.\n",
    "        \"\"\"\n",
    "        self.dim = self.A.shape[0]\n",
    "\n",
    "        # Permutation matrix initialized as an identity matrix\n",
    "        self.P = np.eye(self.dim)\n",
    "        \n",
    "        # Initialize L as the identity matrix and store intermediate operations\n",
    "        self.L_operations = []\n",
    "        self.L = np.eye(self.dim)\n",
    "        \n",
    "        # Initialize diagonal matrix D and upper triangular matrix U with zeros\n",
    "        self.D = np.zeros((self.dim, self.dim))\n",
    "        self.U = np.zeros((self.dim, self.dim))\n",
    "\n",
    "    def lower_triangularization(self):\n",
    "        \"\"\"\n",
    "        Perform the lower triangularization of matrix A.\n",
    "\n",
    "        This method transforms matrix A into a lower triangular form by applying\n",
    "        a series of row operations and stores the intermediate lower triangular\n",
    "        matrices in L_operations.\n",
    "        \"\"\"\n",
    "        for i in range(self.dim):\n",
    "            for j in range(i + 1, self.dim):\n",
    "                Li = np.eye(self.dim)  # Identity matrix to accumulate row operations\n",
    "                # Compute the multiplier for row transformation\n",
    "                Li[j, i] = self.A_[j, i] / self.A_[i, i]\n",
    "                # Update row j of A_ by subtracting the scaled row i\n",
    "                self.A_[j, :] -= (self.A_[j, i] / self.A_[i, i]) * self.A_[i, :]\n",
    "                self.L_operations.append(Li)  # Store the lower triangular matrix\n",
    "\n",
    "        # Combine all lower triangular matrices to form the final L matrix\n",
    "        for li in self.L_operations:\n",
    "            self.L = np.matmul(self.L, li)\n",
    "\n",
    "    def extract_diagonal_and_upper(self):\n",
    "        \"\"\"\n",
    "        Extract the diagonal (D) and upper triangular (U) matrices from A_.\n",
    "        \"\"\"\n",
    "        for i in range(self.dim):\n",
    "            self.D[i, i] = self.A_[i, i]  # Extract diagonal elements\n",
    "            self.U[i, :] = self.A_[i, :]  # Extract upper triangular part\n",
    "\n",
    "        # Normalize U to ensure it has ones on the diagonal\n",
    "        for i in range(self.dim):\n",
    "            if self.D[i, i] != 0:\n",
    "                self.U[i, :] /= self.D[i, i]\n",
    "\n",
    "    def decompose(self):\n",
    "        \"\"\"\n",
    "        Perform Gaussian Elimination to decompose matrix A into L, D, and U.\n",
    "\n",
    "        Returns:\n",
    "        --------\n",
    "        tuple of np.ndarray\n",
    "            A tuple containing the lower triangular matrix (L),\n",
    "            diagonal matrix (D), and upper triangular matrix (U).\n",
    "        \"\"\"\n",
    "        self.lower_triangularization()\n",
    "        self.extract_diagonal_and_upper()\n",
    "        return self.L, self.D, self.U"
   ]
  },
  {
   "cell_type": "code",
   "execution_count": 90,
   "metadata": {},
   "outputs": [],
   "source": [
    "A = np.array([[1,3,-1], [2,8,4], [-1,3,4]], dtype=np.float64)\n",
    "\n",
    "GE = GaussianElimination(A)\n",
    "L,D,U = GE.decompose()"
   ]
  }
 ],
 "metadata": {
  "kernelspec": {
   "display_name": "Python 3",
   "language": "python",
   "name": "python3"
  },
  "language_info": {
   "codemirror_mode": {
    "name": "ipython",
    "version": 3
   },
   "file_extension": ".py",
   "mimetype": "text/x-python",
   "name": "python",
   "nbconvert_exporter": "python",
   "pygments_lexer": "ipython3",
   "version": "3.9.7"
  }
 },
 "nbformat": 4,
 "nbformat_minor": 2
}
