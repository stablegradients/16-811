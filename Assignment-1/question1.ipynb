{
 "cells": [
  {
   "cell_type": "code",
   "execution_count": null,
   "metadata": {},
   "outputs": [],
   "source": [
    "import numpy as np\n",
    "import copy"
   ]
  },
  {
   "cell_type": "code",
   "execution_count": null,
   "metadata": {},
   "outputs": [],
   "source": [
    "list(range(2,5))"
   ]
  },
  {
   "cell_type": "code",
   "execution_count": null,
   "metadata": {},
   "outputs": [],
   "source": [
    "def LowerTriangularization(dim):\n",
    "        for i in range(dim):\n",
    "            Li = np.zeros((dim, dim))\n",
    "            for j in range(i+1, dim):\n",
    "                print(i,j)\n",
    "\n",
    "LowerTriangularization(3)"
   ]
  },
  {
   "cell_type": "code",
   "execution_count": null,
   "metadata": {},
   "outputs": [],
   "source": [
    "import numpy as np\n",
    "\n",
    "def lower_triangularization(A):\n",
    "    dim = A.shape[0]\n",
    "    L = []\n",
    "    for i in range(dim):\n",
    "        for j in range(i + 1, dim):\n",
    "            Li = np.eye(dim)\n",
    "            Li[j, i] = A[j, i] / A[i, i]\n",
    "            A[j, :] = A[j, :] - (A[j, i] / A[i, i]) * A[i, :]\n",
    "            L.append(Li)\n",
    "            print(Li)\n",
    "    \n",
    "    return L, A"
   ]
  },
  {
   "cell_type": "code",
   "execution_count": null,
   "metadata": {},
   "outputs": [],
   "source": []
  },
  {
   "cell_type": "code",
   "execution_count": 185,
   "metadata": {},
   "outputs": [],
   "source": [
    "import numpy as np\n",
    "import copy\n",
    "\n",
    "class GaussianElimination:\n",
    "    \"\"\"\n",
    "    A class to perform Gaussian Elimination on a given matrix A, decomposing it into\n",
    "    permutation (P), lower triangular (L), diagonal (D), and upper triangular (U) matrices.\n",
    "    \"\"\"\n",
    "\n",
    "    def __init__(self, A):\n",
    "        \"\"\"\n",
    "        Initialize the GaussianElimination class with matrix A.\n",
    "\n",
    "        Parameters:\n",
    "        -----------\n",
    "        A : np.ndarray\n",
    "            The matrix to be decomposed.\n",
    "        \"\"\"\n",
    "        self.A = A.astype(np.float64)  # Ensure matrix A is of dtype np.float64\n",
    "        self.A_ = copy.deepcopy(self.A)  # Create a deep copy of A to avoid modifying the original matrix\n",
    "        self.initialize_matrices()\n",
    "\n",
    "    def initialize_matrices(self):\n",
    "        \"\"\"\n",
    "        Initialize matrices P, L, D, and U based on the dimension of matrix A.\n",
    "        \"\"\"\n",
    "        self.dim = self.A.shape[0]\n",
    "\n",
    "        # Initialize permutation matrix P as an identity matrix\n",
    "        self.P = np.eye(self.dim, dtype=np.float64)\n",
    "        \n",
    "        # Initialize L as a zero matrix and U, D as zero matrices\n",
    "        self.L = np.zeros((self.dim, self.dim), dtype=np.float64)\n",
    "        self.D = np.zeros((self.dim, self.dim), dtype=np.float64)\n",
    "        self.U = np.zeros((self.dim, self.dim), dtype=np.float64)\n",
    "\n",
    "    def first_non_zero_index(self, idx):\n",
    "        \"\"\"\n",
    "        Find the index of the first non-zero element in the sub-array starting from index `idx`.\n",
    "\n",
    "        Parameters:\n",
    "        -----------\n",
    "        idx : int\n",
    "            The starting index for the search in the sub-array.\n",
    "\n",
    "        Returns:\n",
    "        --------\n",
    "        int\n",
    "            The index of the first non-zero element in the sub-array.\n",
    "        \"\"\"\n",
    "        column = self.A_[idx:, idx]\n",
    "        non_zero_indices = np.nonzero(column)[0]\n",
    "\n",
    "        return non_zero_indices[0] + idx\n",
    "\n",
    "    def permutation_matrix_colswap(self, col1, col2):\n",
    "        \"\"\"\n",
    "        Swap two columns in the permutation matrix P.\n",
    "\n",
    "        Parameters:\n",
    "        -----------\n",
    "        col1 : int\n",
    "            The first column to swap.\n",
    "        col2 : int\n",
    "            The second column to swap.\n",
    "        \"\"\"\n",
    "        self.P[:, [col1, col2]] = self.P[:, [col2, col1]]\n",
    "\n",
    "    def swap_rows(self, matrix, row1, row2):\n",
    "        \"\"\"\n",
    "        Swap two rows in a given matrix.\n",
    "\n",
    "        Parameters:\n",
    "        -----------\n",
    "        matrix : np.ndarray\n",
    "            The matrix in which rows will be swapped.\n",
    "        row1 : int\n",
    "            The first row to swap.\n",
    "        row2 : int\n",
    "            The second row to swap.\n",
    "\n",
    "        Returns:\n",
    "        --------\n",
    "        np.ndarray\n",
    "            The matrix with the specified rows swapped.\n",
    "        \"\"\"\n",
    "        matrix[[row1, row2], :] = matrix[[row2, row1], :]\n",
    "        return matrix\n",
    "\n",
    "    def lower_triangularization(self):\n",
    "        \"\"\"\n",
    "        Perform lower triangularization of matrix A.\n",
    "\n",
    "        This method transforms matrix A into a lower triangular form by applying\n",
    "        a series of row operations, and updates matrix L accordingly.\n",
    "        \"\"\"\n",
    "        for i in range(self.dim):\n",
    "            # Handle zero pivot by row swapping\n",
    "            if self.A_[i, i] == 0:\n",
    "                interchange_idx = self.first_non_zero_index(i)\n",
    "                self.permutation_matrix_colswap(i, interchange_idx)  # Swap columns in permutation matrix\n",
    "                self.A_ = self.swap_rows(self.A_, i, interchange_idx)  # Swap rows in A_\n",
    "                self.L = self.swap_rows(self.L, i, interchange_idx)  # Swap rows in L\n",
    "\n",
    "            # Perform row operations to create zeros below the pivot\n",
    "            for j in range(i + 1, self.dim):\n",
    "                multiplier = self.A_[j, i] / self.A_[i, i]\n",
    "                self.L[j, i] = multiplier\n",
    "                self.A_[j, :] -= multiplier * self.A_[i, :]\n",
    "\n",
    "        # Add identity matrix to L to finalize lower triangular form\n",
    "        self.L += np.eye(self.dim)\n",
    "\n",
    "    def extract_diagonal_and_upper(self):\n",
    "        \"\"\"\n",
    "        Extract the diagonal (D) and upper triangular (U) matrices from A_.\n",
    "        \"\"\"\n",
    "        for i in range(self.dim):\n",
    "            self.D[i, i] = self.A_[i, i]  # Extract diagonal elements\n",
    "            self.U[i, :] = self.A_[i, :]  # Extract upper triangular part\n",
    "\n",
    "        # Normalize U to ensure ones on the diagonal\n",
    "        for i in range(self.dim):\n",
    "            if self.D[i, i] != 0:\n",
    "                self.U[i, :] /= self.D[i, i]\n",
    "\n",
    "    def decompose(self):\n",
    "        \"\"\"\n",
    "        Perform Gaussian Elimination to decompose matrix A into L, D, U, and P.\n",
    "\n",
    "        Returns:\n",
    "        --------\n",
    "        tuple of np.ndarray\n",
    "            A tuple containing the lower triangular matrix (L),\n",
    "            diagonal matrix (D), upper triangular matrix (U), and permutation matrix (P).\n",
    "        \"\"\"\n",
    "        self.lower_triangularization()\n",
    "        self.extract_diagonal_and_upper()\n",
    "        return self.L, self.D, self.U, self.P"
   ]
  },
  {
   "cell_type": "code",
   "execution_count": 186,
   "metadata": {},
   "outputs": [],
   "source": [
    "A = np.array([[1,3,2], [-2,-6,1], [2,5,7]], dtype=np.float64)\n",
    "\n",
    "GE = GaussianElimination(A)\n",
    "L,D,U,P = GE.decompose()"
   ]
  },
  {
   "cell_type": "code",
   "execution_count": 187,
   "metadata": {},
   "outputs": [
    {
     "data": {
      "text/plain": [
       "array([[ 1.,  0.,  0.],\n",
       "       [ 2.,  1.,  0.],\n",
       "       [-2.,  0.,  1.]])"
      ]
     },
     "execution_count": 187,
     "metadata": {},
     "output_type": "execute_result"
    }
   ],
   "source": [
    "L"
   ]
  },
  {
   "cell_type": "code",
   "execution_count": 188,
   "metadata": {},
   "outputs": [
    {
     "data": {
      "text/plain": [
       "array([[ 1.,  0.,  0.],\n",
       "       [ 0., -1.,  0.],\n",
       "       [ 0.,  0.,  5.]])"
      ]
     },
     "execution_count": 188,
     "metadata": {},
     "output_type": "execute_result"
    }
   ],
   "source": [
    "D"
   ]
  },
  {
   "cell_type": "code",
   "execution_count": 181,
   "metadata": {},
   "outputs": [
    {
     "data": {
      "text/plain": [
       "array([[ 1.,  3.,  2.],\n",
       "       [-0.,  1., -3.],\n",
       "       [ 0.,  0.,  1.]])"
      ]
     },
     "execution_count": 181,
     "metadata": {},
     "output_type": "execute_result"
    }
   ],
   "source": [
    "U"
   ]
  },
  {
   "cell_type": "code",
   "execution_count": 184,
   "metadata": {},
   "outputs": [
    {
     "data": {
      "text/plain": [
       "array([[1., 0., 0.],\n",
       "       [0., 0., 1.],\n",
       "       [0., 1., 0.]])"
      ]
     },
     "execution_count": 184,
     "metadata": {},
     "output_type": "execute_result"
    }
   ],
   "source": [
    "P"
   ]
  }
 ],
 "metadata": {
  "kernelspec": {
   "display_name": "Python 3",
   "language": "python",
   "name": "python3"
  },
  "language_info": {
   "codemirror_mode": {
    "name": "ipython",
    "version": 3
   },
   "file_extension": ".py",
   "mimetype": "text/x-python",
   "name": "python",
   "nbconvert_exporter": "python",
   "pygments_lexer": "ipython3",
   "version": "3.9.7"
  }
 },
 "nbformat": 4,
 "nbformat_minor": 2
}
