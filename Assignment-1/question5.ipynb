{
 "cells": [
  {
   "cell_type": "code",
   "execution_count": 1,
   "metadata": {},
   "outputs": [],
   "source": [
    "import numpy as np\n",
    "\n",
    "class RigidBodyTransformation:\n",
    "    def __init__(self, P, Q):\n",
    "        \"\"\"\n",
    "        Initialize with two 3D point sets P and Q.\n",
    "\n",
    "        Parameters:\n",
    "        P (numpy.ndarray): 3D point set before transformation (n x 3)\n",
    "        Q (numpy.ndarray): 3D point set after transformation (n x 3)\n",
    "        \"\"\"\n",
    "        self.P = P\n",
    "        self.Q = Q\n",
    "        self.centroid_P = np.mean(self.P, axis=0)\n",
    "        self.centroid_Q = np.mean(self.Q, axis=0)\n",
    "        self.T = None  # Translation vector\n",
    "        self.R = None  # Rotation matrix\n",
    "\n",
    "    def compute_translation(self):\n",
    "        \"\"\"\n",
    "        Compute the translation vector T as the difference between centroids.\n",
    "        \"\"\"\n",
    "        self.T = self.centroid_Q - self.centroid_P\n",
    "\n",
    "    def compute_rotation(self):\n",
    "        \"\"\"\n",
    "        Compute the rotation matrix R using SVD.\n",
    "        \"\"\"\n",
    "        # Step 2: Align centroids\n",
    "        P_centered = self.P - np.mean(self.P, axis=0)\n",
    "        Q_centered = self.Q - np.mean(self.Q, axis=0)\n",
    "\n",
    "        # Step 3: Compute rotation matrix\n",
    "        H = P_centered.T @ Q_centered  # Covariance matrix\n",
    "        U, S, Vt = np.linalg.svd(H)    # SVD decomposition\n",
    "        self.R = Vt.T @ U.T\n",
    "\n",
    "\n",
    "    def infer_transformation(self):\n",
    "        \"\"\"\n",
    "        Perform the full inference of translation and rotation.\n",
    "        \"\"\"\n",
    "        self.compute_translation()\n",
    "        self.compute_rotation()\n",
    "        return self.T, self.R\n",
    "\n",
    "    def apply_transformation(self, P):\n",
    "        \"\"\"\n",
    "        Apply the computed transformation to a given 3D point set P.\n",
    "\n",
    "        Parameters:\n",
    "        P (numpy.ndarray): 3D point set to transform (n x 3)\n",
    "\n",
    "        Returns:\n",
    "        numpy.ndarray: Transformed point set.\n",
    "        \"\"\"\n",
    "        if self.T is None or self.R is None:\n",
    "            raise ValueError(\"Transformation not yet computed. Call infer_transformation first.\")\n",
    "        \n",
    "        # center it according to the centroid of P, then rotate it, then translate it\n",
    "        return ((P-self.centroid_P) @ self.R.T) + self.centroid_P + self.T\n"
   ]
  },
  {
   "cell_type": "code",
   "execution_count": 2,
   "metadata": {},
   "outputs": [],
   "source": [
    "P = np.array([[1.0, 0.0, 0.0], [0.0, 1.0, 0.0], [0.0, 0.0, 1.0]])\n",
    "Q = np.array([[0.0, 1.0, 1.0], [1.0, 0.0, 1.0], [1.0, 1.0, 0.0]])\n",
    "\n",
    "transformer = RigidBodyTransformation(P, Q)\n",
    "\n",
    "T, R = transformer.infer_transformation()"
   ]
  },
  {
   "cell_type": "code",
   "execution_count": 3,
   "metadata": {},
   "outputs": [
    {
     "data": {
      "text/plain": [
       "array([0.33333333, 0.33333333, 0.33333333])"
      ]
     },
     "execution_count": 3,
     "metadata": {},
     "output_type": "execute_result"
    }
   ],
   "source": [
    "T"
   ]
  },
  {
   "cell_type": "code",
   "execution_count": 4,
   "metadata": {},
   "outputs": [
    {
     "data": {
      "text/plain": [
       "array([[-0.33333333,  0.66666667,  0.66666667],\n",
       "       [ 0.66666667, -0.33333333,  0.66666667],\n",
       "       [ 0.66666667,  0.66666667, -0.33333333]])"
      ]
     },
     "execution_count": 4,
     "metadata": {},
     "output_type": "execute_result"
    }
   ],
   "source": [
    "R"
   ]
  },
  {
   "cell_type": "code",
   "execution_count": 5,
   "metadata": {},
   "outputs": [],
   "source": [
    "transformed_P = transformer.apply_transformation(P)"
   ]
  },
  {
   "cell_type": "code",
   "execution_count": 6,
   "metadata": {},
   "outputs": [
    {
     "data": {
      "text/plain": [
       "array([[ 0.00000000e+00,  1.00000000e+00,  1.00000000e+00],\n",
       "       [ 1.00000000e+00, -1.11022302e-16,  1.00000000e+00],\n",
       "       [ 1.00000000e+00,  1.00000000e+00,  0.00000000e+00]])"
      ]
     },
     "execution_count": 6,
     "metadata": {},
     "output_type": "execute_result"
    }
   ],
   "source": [
    "transformed_P"
   ]
  }
 ],
 "metadata": {
  "kernelspec": {
   "display_name": "LogitAdjustmentLongTail",
   "language": "python",
   "name": "python3"
  },
  "language_info": {
   "codemirror_mode": {
    "name": "ipython",
    "version": 3
   },
   "file_extension": ".py",
   "mimetype": "text/x-python",
   "name": "python",
   "nbconvert_exporter": "python",
   "pygments_lexer": "ipython3",
   "version": "3.9.7"
  }
 },
 "nbformat": 4,
 "nbformat_minor": 2
}
